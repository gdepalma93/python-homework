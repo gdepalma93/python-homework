{
 "cells": [
  {
   "cell_type": "code",
   "execution_count": 12,
   "metadata": {},
   "outputs": [],
   "source": [
    "# Import Dependencies\n",
    "import os\n",
    "import csv\n",
    "import pandas as pd\n",
    "import numpy as np"
   ]
  },
  {
   "cell_type": "code",
   "execution_count": 53,
   "metadata": {},
   "outputs": [
    {
     "name": "stdout",
     "output_type": "stream",
     "text": [
      "        Date  Profit/Losses  Change_in_PnL\n",
      "0   Jan-2010         867884            NaN\n",
      "1   Feb-2010         984655       116771.0\n",
      "2   Mar-2010         322013      -662642.0\n",
      "3   Apr-2010         -69417      -391430.0\n",
      "4   May-2010         310503       379920.0\n",
      "..       ...            ...            ...\n",
      "81  Oct-2016         102685      -665765.0\n",
      "82  Nov-2016         795914       693229.0\n",
      "83  Dec-2016          60988      -734926.0\n",
      "84  Jan-2017         138230        77242.0\n",
      "85  Feb-2017         671099       532869.0\n",
      "\n",
      "[86 rows x 3 columns]\n"
     ]
    }
   ],
   "source": [
    "# Create Dataframe from CSV File\n",
    "budget_data = pd.read_csv('budget_data.csv')\n",
    "# Add Change_in_PnL Column to dataframe\n",
    "budget_data['Change_in_PnL'] = budget_data[\"Profit/Losses\"]-budget_data[\"Profit/Losses\"].shift(+1) \n",
    "print(budget_data)"
   ]
  },
  {
   "cell_type": "code",
   "execution_count": 54,
   "metadata": {},
   "outputs": [
    {
     "data": {
      "text/plain": [
       "-2288.1976744186045"
      ]
     },
     "execution_count": 54,
     "metadata": {},
     "output_type": "execute_result"
    }
   ],
   "source": [
    "# Financial Calculations\n",
    "total_months = budget_data['Date'].count()\n",
    "PnL = budget_data['Profit/Losses'].sum()\n",
    "avg_change_pnl_monthly = budget_data[\"Change_in_PnL\"].sum()/total_months\n",
    "max_profit_increase = budget_data[\"Change_in_PnL\"].max()\n",
    "max_profit_decrease = budget_data[\"Change_in_PnL\"].min()\n",
    "\n",
    "avg_change_pnl_monthly"
   ]
  },
  {
   "cell_type": "code",
   "execution_count": 55,
   "metadata": {},
   "outputs": [
    {
     "name": "stdout",
     "output_type": "stream",
     "text": [
      "----- Financial Analysis -------\n",
      "Total Months: 86\n",
      "Total PnL: $38382578\n",
      "Avg Monthly Change in PnL: $-2288.1976744186045\n",
      "Greatest Increase in Profits: $1926159.0\n",
      "Greatest Decrease in Profits: $-2196167.0\n"
     ]
    }
   ],
   "source": [
    "print(\"----- Financial Analysis -------\")\n",
    "print(f\"Total Months: {total_months}\")\n",
    "print(f\"Total PnL: ${PnL}\")\n",
    "print(f\"Avg Monthly Change in PnL: ${avg_change_pnl_monthly}\")\n",
    "print(f\"Greatest Increase in Profits: ${max_profit_increase}\")\n",
    "print(f\"Greatest Decrease in Profits: ${max_profit_decrease}\")"
   ]
  },
  {
   "cell_type": "code",
   "execution_count": null,
   "metadata": {},
   "outputs": [],
   "source": []
  }
 ],
 "metadata": {
  "kernelspec": {
   "display_name": "Python 3",
   "language": "python",
   "name": "python3"
  },
  "language_info": {
   "codemirror_mode": {
    "name": "ipython",
    "version": 3
   },
   "file_extension": ".py",
   "mimetype": "text/x-python",
   "name": "python",
   "nbconvert_exporter": "python",
   "pygments_lexer": "ipython3",
   "version": "3.7.3"
  }
 },
 "nbformat": 4,
 "nbformat_minor": 2
}
